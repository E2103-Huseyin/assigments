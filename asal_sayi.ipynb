{
 "cells": [
  {
   "cell_type": "code",
   "execution_count": 6,
   "metadata": {},
   "outputs": [
    {
     "name": "stdin",
     "output_type": "stream",
     "text": [
      "enter an +digital  integer number : 5244\n"
     ]
    },
    {
     "name": "stdout",
     "output_type": "stream",
     "text": [
      "2\n",
      "3\n",
      "4\n",
      "6\n",
      "12\n",
      "19\n",
      "23\n",
      "38\n",
      "46\n",
      "57\n",
      "69\n",
      "76\n",
      "92\n",
      "114\n",
      "138\n",
      "228\n",
      "276\n",
      "437\n",
      "874\n",
      "1311\n",
      "1748\n",
      "2622\n",
      "5244\n",
      "5244 is not a prime number\n"
     ]
    }
   ],
   "source": [
    "a = int(input(\"enter an +digital  integer number :\"))\n",
    "depo=[]\n",
    "if a==1 or a==0:\n",
    "    print(\"{} is not a prime number\".format(a))\n",
    "else:\n",
    "    for i in range(2,a+1):\n",
    "        if a%i==0:\n",
    "            depo.append(i)\n",
    "            #print(i)\n",
    "    if depo[0]==a:\n",
    "        print(\"{} is a prime number\".format(a))\n",
    "    else:\n",
    "        print(\"{} is not a prime number\".format(a))\n"
   ]
  },
  {
   "cell_type": "code",
   "execution_count": 4,
   "metadata": {},
   "outputs": [
    {
     "data": {
      "text/plain": [
       "range(2, 6)"
      ]
     },
     "execution_count": 4,
     "metadata": {},
     "output_type": "execute_result"
    }
   ],
   "source": [
    "a=5\n",
    "range(2,a+1)"
   ]
  },
  {
   "cell_type": "code",
   "execution_count": 5,
   "metadata": {},
   "outputs": [
    {
     "name": "stdout",
     "output_type": "stream",
     "text": [
      "olmadii\n"
     ]
    }
   ],
   "source": [
    "d=5\n",
    "e=int(d)\n",
    "c=[5]\n",
    "if c==d:\n",
    "    print(\"{} is a prime number\".format(a))\n",
    "else:\n",
    "     print(\"olmadii\")"
   ]
  },
  {
   "cell_type": "code",
   "execution_count": 10,
   "metadata": {},
   "outputs": [
    {
     "data": {
      "text/plain": [
       "5"
      ]
     },
     "execution_count": 10,
     "metadata": {},
     "output_type": "execute_result"
    }
   ],
   "source": [
    "c[0]"
   ]
  },
  {
   "cell_type": "code",
   "execution_count": 14,
   "metadata": {},
   "outputs": [
    {
     "ename": "TypeError",
     "evalue": "'int' object is not subscriptable",
     "output_type": "error",
     "traceback": [
      "\u001b[1;31m---------------------------------------------------------------------------\u001b[0m",
      "\u001b[1;31mTypeError\u001b[0m                                 Traceback (most recent call last)",
      "\u001b[1;32m<ipython-input-14-8088862005ba>\u001b[0m in \u001b[0;36m<module>\u001b[1;34m\u001b[0m\n\u001b[1;32m----> 1\u001b[1;33m \u001b[0me\u001b[0m\u001b[1;33m[\u001b[0m\u001b[1;36m0\u001b[0m\u001b[1;33m]\u001b[0m\u001b[1;33m\u001b[0m\u001b[1;33m\u001b[0m\u001b[0m\n\u001b[0m",
      "\u001b[1;31mTypeError\u001b[0m: 'int' object is not subscriptable"
     ]
    }
   ],
   "source": [
    "e[0]"
   ]
  },
  {
   "cell_type": "code",
   "execution_count": 18,
   "metadata": {},
   "outputs": [
    {
     "data": {
      "text/plain": [
       "int"
      ]
     },
     "execution_count": 18,
     "metadata": {},
     "output_type": "execute_result"
    }
   ],
   "source": [
    "type(depo[0])"
   ]
  },
  {
   "cell_type": "code",
   "execution_count": null,
   "metadata": {},
   "outputs": [],
   "source": [
    "n = int(input(\"enter a number to check if it is a prime or not:\"))\n",
    "count = 0\n",
    "for i in range(1, n+1) :\n",
    "    if not (n % i) : count += 1\n",
    "if (n == 0) or (n == 1) or (count >=3) : print(n, \"is not a prime number.\")\n",
    "else : print(n, \"is a prime number\")"
   ]
  }
 ],
 "metadata": {
  "kernelspec": {
   "display_name": "Python 3",
   "language": "python",
   "name": "python3"
  },
  "language_info": {
   "codemirror_mode": {
    "name": "ipython",
    "version": 3
   },
   "file_extension": ".py",
   "mimetype": "text/x-python",
   "name": "python",
   "nbconvert_exporter": "python",
   "pygments_lexer": "ipython3",
   "version": "3.7.6"
  }
 },
 "nbformat": 4,
 "nbformat_minor": 4
}
