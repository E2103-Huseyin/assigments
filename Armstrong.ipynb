{
 "cells": [
  {
   "cell_type": "code",
   "execution_count": null,
   "metadata": {},
   "outputs": [
    {
     "name": "stdin",
     "output_type": "stream",
     "text": [
      "enter a positive number : *\n"
     ]
    },
    {
     "name": "stdout",
     "output_type": "stream",
     "text": [
      "* It is an invalid entry. Don't         use non-numeric, float, or negative values!\n"
     ]
    }
   ],
   "source": [
    "while True:\n",
    "    number = input(\"enter a positive number :\")\n",
    "    digits = len(number)\n",
    "    summ = 0\n",
    "    if not number.isdigit() :\n",
    "        print(number, \"It is an invalid entry. Don't \\\n",
    "        use non-numeric, float, or negative values!\")\n",
    "    elif int(number) >= 0:\n",
    "        for i in range(digits):\n",
    "            summ += int(number[i]) ** digits\n",
    "        if summ == int(number):\n",
    "            print(number, \"is an Armstrong number.\")\n",
    "            break\n",
    "        else:\n",
    "            print(number, \"is not an Armstrong number.\")\n",
    "            break"
   ]
  },
  {
   "cell_type": "code",
   "execution_count": null,
   "metadata": {},
   "outputs": [],
   "source": []
  },
  {
   "cell_type": "code",
   "execution_count": null,
   "metadata": {},
   "outputs": [],
   "source": []
  },
  {
   "cell_type": "code",
   "execution_count": null,
   "metadata": {},
   "outputs": [],
   "source": []
  },
  {
   "cell_type": "code",
   "execution_count": null,
   "metadata": {},
   "outputs": [],
   "source": []
  },
  {
   "cell_type": "code",
   "execution_count": null,
   "metadata": {},
   "outputs": [],
   "source": [
    "#import string\n",
    "number = (input(\"enter an +digital  integer number :\"))\n",
    "n=set(number)\n",
    "if n & set(string.ascii_letters) != set():\n",
    "    print(\" It is an invalid entry. Don't use non-numeric, float, or negative values!\")\n",
    "elif n & set(string.punctuation) != set():\n",
    "    print(\" It is an invalid entry. Don't use non-numeric, float, or negative values!\")\n",
    "else:\n",
    "    a = list(number)\n",
    "    b = len(a)\n",
    "    Arm = 0\n",
    "    for i in range(0,b):\n",
    "        x = int(a[i])**b\n",
    "        Arm = Arm + x\n",
    "    if Arm == int(number):\n",
    "        print(\"{} is an Armstrong number\".format(number))\n",
    "    else:\n",
    "        print(\"{} is not an Armstrong number\".format(number))"
   ]
  },
  {
   "cell_type": "markdown",
   "metadata": {},
   "source": [
    "##### "
   ]
  },
  {
   "cell_type": "code",
   "execution_count": null,
   "metadata": {},
   "outputs": [],
   "source": []
  }
 ],
 "metadata": {
  "kernelspec": {
   "display_name": "Python 3",
   "language": "python",
   "name": "python3"
  },
  "language_info": {
   "codemirror_mode": {
    "name": "ipython",
    "version": 3
   },
   "file_extension": ".py",
   "mimetype": "text/x-python",
   "name": "python",
   "nbconvert_exporter": "python",
   "pygments_lexer": "ipython3",
   "version": "3.7.6"
  }
 },
 "nbformat": 4,
 "nbformat_minor": 4
}
